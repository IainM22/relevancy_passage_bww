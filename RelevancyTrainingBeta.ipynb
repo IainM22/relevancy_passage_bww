{
 "cells": [
  {
   "cell_type": "markdown",
   "metadata": {},
   "source": [
    "# Relevancy Training Beta in Watson Discovery Service\n",
    "This notebook is meant to provide a basic example of how to use the Relevancy Training beta capabilities in Watson Discovery \n",
    "service. See the note on Beta capabilities in the release notes here https://www.ibm.com/watson/developercloud/doc/discovery/release-notes.html\n",
    "\n",
    "Relevancy Training allows developers to train Watson Discovery to find signals in the language of questions and documents to help surface the most relevant documents to the top of the results. Documentation for the capability is here https://www.ibm.com/watson/developercloud/doc/discovery/train.html"
   ]
  },
  {
   "cell_type": "markdown",
   "metadata": {},
   "source": [
    "## Step 1: Collect Representative Queries\n",
    "In order to perform Relevancy Training, you first need a set of representative queries that reflect what real users will ask of the Discovery service when integrated in your app. In general Relevancy Training is best suited to deal with queries expressed in natural language or phrases where there are multiple important terms. \n",
    "There are two common ways to collect these questions. One is to work with Subject Matter Experts (SMEs) to create questions. The other is to deploy a simple application to a set of pilot or alpha users and log/track usage. For this example we will assume questions have already been collected. "
   ]
  },
  {
   "cell_type": "markdown",
   "metadata": {},
   "source": [
    "## Step 2: Collect Training Examples\n",
    "After collecting questions, you need to provide Relevancy training with examples of good and bad answer documents for those questions. To do this, we will prepare a file with the training queries and results from the untrained Discovery service. "
   ]
  },
  {
   "cell_type": "code",
   "execution_count": 11,
   "metadata": {
    "collapsed": true
   },
   "outputs": [],
   "source": [
    "import watson_developer_cloud\n",
    "import json\n",
    "import csv\n",
    "import requests\n",
    "\n",
    "#create a new Discovery object using the python SDK and credentials from bluemix. \n",
    "username=\"<INSERT CREDENTIALS HERE>\" \n",
    "password=\"<INSERT CREDENTIALS HERE>\"\n",
    "\n",
    "discovery = watson_developer_cloud.DiscoveryV1(\n",
    "    '2016-11-07',\n",
    "    username=username,\n",
    "    password=password)\n",
    "\n",
    "#specify the environment and collection where the content lives. These ids can be collected from \n",
    "#the discovery web tooling collection details page.\n",
    "environment = \"<INSERT ENVIRONMENT_ID HERE>\"\n",
    "collection = \"<INSERT COLLECTION_ID HERE>\""
   ]
  },
  {
   "cell_type": "markdown",
   "metadata": {},
   "source": [
    "In this sample, we will work with a predifined set of questions, when using this example, you will need to fill in the path to a txt file containing a single training question per line. \n",
    "\n",
    "This step may take a few minutes to run through all the queries."
   ]
  },
  {
   "cell_type": "code",
   "execution_count": 9,
   "metadata": {
    "collapsed": false
   },
   "outputs": [],
   "source": [
    "with open (\"c:/users/IBM_ADMIN/documents/data/wimbledon/wimbledon/questions/questions1.txt\") as questions:\n",
    "    #open an output file to place the responses \n",
    "    filestr = \"c:/users/IBM_ADMIN/documents/data/wimbledon/gtQuestions_2.tsv\"\n",
    "    of = open(filestr, \"w\")\n",
    "    writer = csv.writer(of, delimiter=\"\\t\")\n",
    "    \n",
    "    #go through each question in file and prepare Discovery query paramaters \n",
    "    for line in questions:\n",
    "        question = line.replace(\"\\n\", \"\")\n",
    "        params = {}\n",
    "        params[\"query\"] = \"%s\" % (question)\n",
    "        params[\"return\"] = \"_id,body,title\" #these fields may need to be updated depending on the content being used \n",
    "        params[\"count\"] = 4 \n",
    "        \n",
    "        #run Discovery query to get results from untrained service \n",
    "        result = discovery.query(environment_id=environment, collection_id=collection, query_options=params)\n",
    "        \n",
    "        #create a row for each query and results \n",
    "        result_list = [question.encode(\"utf8\")]\n",
    "        for resultDoc in result[\"results\"]:\n",
    "            id = resultDoc[\"id\"]\n",
    "            body = resultDoc[\"body\"].encode(\"utf8\")\n",
    "            title = resultDoc[\"title\"].encode(\"utf8\")\n",
    "            result_list.extend([id,title,body,' ']) #leave a space to enter a relevance label for each doc \n",
    "        \n",
    "        #write the row to the file \n",
    "        writer.writerow(result_list)\n",
    "    \n",
    "    of.close()"
   ]
  },
  {
   "cell_type": "markdown",
   "metadata": {},
   "source": [
    "The resulting file contains the question and potential answers from an untrained Discovery instance. This file can be shared with SMEs to help rate each of the answers. These ratings will be used as relevance labels for the training data. "
   ]
  },
  {
   "cell_type": "markdown",
   "metadata": {},
   "source": [
    "## Step 3: Upload training data\n",
    "The next step is to take the queries, documents, and relevance labels, and create training data objects to send to the Discovery service. "
   ]
  },
  {
   "cell_type": "code",
   "execution_count": 23,
   "metadata": {
    "collapsed": false
   },
   "outputs": [],
   "source": [
    "#function for posting to training data endpoint \n",
    "def training_post(discovery_path, training_obj):\n",
    "    training_json = json.dumps(training_obj)\n",
    "    headers = {\n",
    "        'content-type': \"application/json\"\n",
    "        }\n",
    "    auth = (username, password)\n",
    "    r = requests.request(method=\"POST\",url=discovery_path,data=training_json,headers=headers,auth=auth)\n",
    " \n",
    "#open the training file and create new training data objects\n",
    "with open(filestr,'r') as training_doc:\n",
    "    training_csv = csv.reader(training_doc, delimiter='\\t')    \n",
    "    training_obj = {}\n",
    "    training_obj[\"examples\"] = []\n",
    "    \n",
    "    discovery_path = \"https://gateway.watsonplatform.net/discovery/api/v1/environments/\" + environment + \"/collections/\" + collection \n",
    "    discovery_training_path = discovery_path + \"/training_data?version=2016-11-07\"\n",
    "    \n",
    "    count = 0 \n",
    "    #use first 100 ratings for training, rest will be used for testing \n",
    "    if(count < 100):\n",
    "        #create a new object for each example \n",
    "        for row in training_csv:\n",
    "            training_obj[\"natural_language_query\"] = row[0]\n",
    "            i = 1 \n",
    "            for j in range(1,3):\n",
    "                example_obj = {}\n",
    "                example_obj[\"relevance\"] = row[i+3]\n",
    "                example_obj[\"document_id\"] = row[i]\n",
    "                training_obj[\"examples\"].append(example_obj)\n",
    "                i = i + 4 \n",
    "\n",
    "            #send the training data to the discovery service \n",
    "            training_post(discovery_training_path, training_obj)\n",
    "\n",
    "            #only take first half \n",
    "            count = count + 1\n",
    "\n",
    "    "
   ]
  },
  {
   "cell_type": "markdown",
   "metadata": {},
   "source": [
    "## Step 4: Check training status \n",
    "After uploading data, you can check the status of the training data to determine if all criteria have been met. The training data requirements are listed in the documentation here https://www.ibm.com/watson/developercloud/doc/discovery/train.html#training-data-requirements"
   ]
  },
  {
   "cell_type": "code",
   "execution_count": 27,
   "metadata": {
    "collapsed": false
   },
   "outputs": [
    {
     "name": "stdout",
     "output_type": "stream",
     "text": [
      "{\"status\": \"active\", \"updated\": \"2017-04-30T15:28:24.819Z\", \"name\": \"WimbledonSmall\", \"language\": \"en_us\", \"created\": \"2017-04-30T15:28:24.819Z\", \"document_counts\": {\"available\": 0, \"failed\": 5, \"processing\": 0}, \"configuration_id\": \"6739fd67-f347-44c9-b60b-5395345ce9a8\", \"training_status\": {\"available\": true, \"successfully_trained\": \"1969-12-20T19:04:22.992+0000\", \"total_examples\": 297, \"processing\": false, \"sufficient_label_diversity\": true, \"minimum_examples_added\": true, \"notices\": 0, \"minimum_queries_added\": true, \"data_updated\": \"1969-12-31T00:53:39.992+0000\"}, \"collection_id\": \"800ef70c-7ac9-4a77-9311-6ab96adc7751\", \"description\": null}\n"
     ]
    }
   ],
   "source": [
    "status = discovery.get_collection(environment,collection)\n",
    "print(json.dumps(status))"
   ]
  },
  {
   "cell_type": "markdown",
   "metadata": {},
   "source": [
    "## Step 5: Run natural_language_query \n",
    "Once training is ready, you can start to query the service using the training and see the results. To do this you can put aside a set of collected questions to use as a test set. Training is utilized with the natural_langauge_query parameter in the Discovery query language. The function below will write out the json results from this query. These results could be incorporated into your application "
   ]
  },
  {
   "cell_type": "code",
   "execution_count": 25,
   "metadata": {
    "collapsed": false
   },
   "outputs": [
    {
     "name": "stdout",
     "output_type": "stream",
     "text": [
      "https://gateway.watsonplatform.net/discovery/api/v1/environments/7455992d-3f0c-4936-b4d3-1dc8d0277e50/collections/800ef70c-7ac9-4a77-9311-6ab96adc7751/query\n",
      "{\n",
      "  \"matching_results\": 3,\n",
      "  \"results\": [\n",
      "    {\n",
      "      \"id\": \"c3776995-5fe6-409b-97f1-059988ffe79e\",\n",
      "      \"score\": 1,\n",
      "      \"body\": \"The Field Cup, 1877–1883. The original Gentlemen’s Singles trophy, won by the first Wimbledon Champion, S.W. Gore, in 1877, was the Field Cup. This Challenge Cup was presented to The All England Croquet and Lawn Tennis Club, especially for the event, by “The Field” newspaper. Mr. J.H. Walsh, who was the Honorary Secretary of the Club and the editor of “The Field”, persuaded his Proprietors to support the new venture by providing the 25 guineas Cup.\",\n",
      "      \"title\": \"1.1.1 The Field Cup, 1877–1883\"\n",
      "    },\n",
      "    {\n",
      "      \"id\": \"eb5b62fa-5364-4b26-b1ff-bf63f979ed22\",\n",
      "      \"score\": 1,\n",
      "      \"body\": \"l895. Crown Princess Stephanie of Austria was the first royal visitor to Wimbledon.\",\n",
      "      \"title\": \"1.1.49. l895\"\n",
      "    },\n",
      "    {\n",
      "      \"id\": \"4ee60ad1-39a8-4558-9c61-390af6b2fd01\",\n",
      "      \"score\": 1,\n",
      "      \"body\": \"Henman climbed up the rankings very quickly. In 1994, he was among the top 200 players in the world; by 1995, among the top 100; and by 1996, he had made it into the top 30 and won a medal at the Atlanta Olympics . He was the UK's highest-ranked player that year, and won the Most Improved Player trophy at the ATP awards. He was subsequently elected to the ATP Tour Player Council and went on to win his first championship in January 1997. In March of that year, he underwent surgery on his elbow which kept him out of action for two months. During his early career he became the first player ever to be disqualified from the Wimbledon tournament in 1995. The young Henman thrashed a ball in a fit of pique during a doubles match, striking ball girl Caroline Hall on the head. He made a public apology after the incident. Henman came to the attention of the wider tennis world in 1996 when he came from match point down, saving two successive match points with aces when serving at 3–5 and 15/40, and then breaking his opponent's serve twice in a row to win the final set 7–5 and beat reigning French Open champion Yevgeny Kafelnikov in the first round at Wimbledon, going on to reach the quarter finals before losing to Todd Martin . A few weeks later he was to reach the Men's Doubles final at the 1996 Summer Olympics in partnership with Neil Broad, losing to #1 seeds Todd Woodbridge and Mark Woodforde to receive the silver medal. By the time he reached the last 16 at the US Open later in the year, he was firmly established as a top player. He won his first ATP Tour title in January 1997, beating Carlos Moyá at the Sydney International event. He was seeded 14th at Wimbledon, and again reached the quarter-final, defeating reigning champion and 4th seed Richard Krajicek in the fourth round before falling to 1992 champion Michael Stich. In 1998 he went one better, reaching the semi-final for the first time, by which time he was ranked as one of the top 10 ATP players. Henman came close to reaching the final on a number of occasions, losing in the semi-finals in 1998, 1999, 2001 (when just two points from victory at one point) and 2002. In 2000 he reached the fourth round and in 1996, 1997, 2003 and 2004 he lost in the quarter-finals. The first two of those semi-final losses were to Pete Sampras , who went on to win the title on both occasions. In 2002 he lost to Lleyton Hewitt who was ranked number one in the world at the time, and who also won the title: as, indeed, did Goran Ivanisevic , a former two-time finalist (although only in this tournament as a wild card) in 2001. One of the tournaments in which he has been most successful is Queen's Club . He reached the final in 1999, where he lost to Pete Sampras , and went on to reach the final again in 2001 and 2002, where both times he lost to Lleyton Hewitt . From then on, he was expected to be the first man since Fred Perry in 1936 to win a major for Britain - although in the end he never actually managed it, Wimbledon 2001 being the closest that he even came to reaching a final. He became well known for the Henman fist , which would become his trademark on winning a point.\",\n",
      "      \"title\": \"1996–2000: Breakthrough[edit]\"\n",
      "    }\n",
      "  ]\n",
      "}\n",
      "https://gateway.watsonplatform.net/discovery/api/v1/environments/7455992d-3f0c-4936-b4d3-1dc8d0277e50/collections/800ef70c-7ac9-4a77-9311-6ab96adc7751/query\n",
      "{\n",
      "  \"matching_results\": 3,\n",
      "  \"results\": [\n",
      "    {\n",
      "      \"id\": \"c2c700a5-df8c-44a2-9e80-1cd823e08b6d\",\n",
      "      \"score\": 1,\n",
      "      \"body\": \"1988. A new procedure was introduced whereby if as a result of bad weather there was no play on the Centre Court and No. 1 Court, the ticket holder for that day would be given priority for the following year when applying for a seat. New Press, Television and Radio Interview rooms were accommodated in the former Ladies’ Lower Dressing Room under the Centre Court South-East Entrance Hall. An additional Ladies’ Dressing room was provided in the No. 1 Court Building in place of the Ball Boys’ and Girls’ changing rooms which were rehoused in an extended west side of the building.\",\n",
      "      \"title\": \"1.2.277. 1988\"\n",
      "    },\n",
      "    {\n",
      "      \"id\": \"076770c8-d69e-43b3-9f88-34c31f148685\",\n",
      "      \"score\": 1,\n",
      "      \"body\": \"1992. A large marquee was erected in the Lodge Garden to provide competitors with a quieter area in which to relax.\",\n",
      "      \"title\": \"1.2.317. 1992\"\n",
      "    },\n",
      "    {\n",
      "      \"id\": \"80a780b8-b119-4cbb-af62-214cbf7e30f2\",\n",
      "      \"score\": 1,\n",
      "      \"body\": \"The Wimbledon Trophy is the winner's victory symbol of the tournament. The winner does not keep the trophy, which is displayed for several months of the year in the All-England Club Museum, but from 1949 to 2006 all Champions have received a miniature replica of the trophy, and from 2007 all Champions have received a three-quarter replica of the trophy, bearing the names of all past Champions. The runner-up in each event receives an inscribed silver plate.\",\n",
      "      \"title\": \"Intro\"\n",
      "    }\n",
      "  ]\n",
      "}\n",
      "https://gateway.watsonplatform.net/discovery/api/v1/environments/7455992d-3f0c-4936-b4d3-1dc8d0277e50/collections/800ef70c-7ac9-4a77-9311-6ab96adc7751/query\n",
      "{\n",
      "  \"matching_results\": 3,\n",
      "  \"results\": [\n",
      "    {\n",
      "      \"id\": \"ab955dd4-d479-4759-a6fe-2b21fe74343b\",\n",
      "      \"score\": 1,\n",
      "      \"body\": \"The lines that delineate the width of the court are called the baseline (farthest back) and the service line (middle of the court). The short mark in the center of each baseline is referred to as either the hash mark or the center mark. The outermost lines that make up the length are called the doubles sidelines. These are the boundaries used when doubles is being played. The lines to the inside of the doubles sidelines are the singles sidelines and are used as boundaries in singles play. The area between a doubles sideline and the nearest singles sideline is called the doubles alley, which is considered playable in doubles play. The line that runs across the center of a player's side of the court is called the service line because the serve must be delivered into the area between the service line and the net on the receiving side. Despite its name, this is not where a player legally stands when making a serve. The line dividing the service line in two is called the center line or center service line. The boxes this center line creates are called the service boxes; depending on a player's position, he or she will have to hit the ball into one of these when serving. A ball is out only if none of it has hit the line or the area inside the lines upon its first bounce. All the lines are required to be between 1 and 2 inches (51 mm) in width. The baseline can be up to 4 inches (100 mm) wide.\",\n",
      "      \"title\": \"Lines\"\n",
      "    },\n",
      "    {\n",
      "      \"id\": \"afa7e3d8-cd04-4fe1-8601-3d68ec79ec14\",\n",
      "      \"score\": 1,\n",
      "      \"body\": \"Total area of grass on each of Centre and No.1 Courts is 41m x 22m. Singles Court is length 23.77m (78 ) x width 8.23m (27 ). Doubles Court is length 23.77m (78 ) x width 10.97m (36 ). Paint is not used to mark the lines on the court. A transfer wheel marker is used to apply a white compound (500 gallons used yearly) containing titanium dioxide to make it durable. All the lines are 50mm wide, except the baselines, which are 100mm.\",\n",
      "      \"title\": \"Lines and dimensions\"\n",
      "    },\n",
      "    {\n",
      "      \"id\": \"ce1b01ae-21c7-4c51-b9f2-ee1416bfc5c2\",\n",
      "      \"score\": 1,\n",
      "      \"body\": \"8 Litres per second of fresh air per person pumped into the bowl to manage the environment 9 Chiller units required to cool the air 10 Minutes (maximum) that the roof takes to close 10 Trusses holding up the roof 16 Metres – height of the roof above the court surface 30 Minutes – maximum time expected before play can start/continue after the roof is closedand the internal environment is controlled and stabilised 43 Miles per hour – wind speed up to which the roof can be deployed/ retracted 77 Metres – the span of the moving roof trusses (width of football pitch = 68m) 70 Tonnes – weight of each of the 10 trusses without extra parts 100 Tonnes – weight of each of the 10 trusses with all extras – eg motors, locking arms -- 100 Percent of the roofs fabric which is recyclable 214 MM per second – maximum speed of truss deployment 1,200 Extra seats installed in 2008 3,000 Tonnes – combined weight (both fixed and moving) of the roof 5,200 Square metres, area of retractable roof when fully deployed 7,500 Wimbledon umbrellas, needed to cover the same area as the retractable roof 15,000 Maximum spectator capacity 143,000 Litres per second – total amount of conditioned air that the air- management system supplies to the bowl 290million Tennis balls – number that could fit in the Centre Court with the roof closed\",\n",
      "      \"title\": \"Roof by numbers\"\n",
      "    }\n",
      "  ]\n",
      "}\n"
     ]
    }
   ],
   "source": [
    "def relevance_query(path, query):\n",
    "    headers = {\n",
    "        'content-type': \"application/json\"\n",
    "        }\n",
    "    params = {}\n",
    "    params[\"natural_language_query\"] = query\n",
    "    params[\"version\"] = \"2016-11-07\"\n",
    "    params[\"return\"] = \"_id,body,title\"\n",
    "    params[\"count\"] = 3\n",
    "    auth = (username, password)\n",
    "    r = requests.request(method=\"GET\",url=path,params=params,headers=headers,auth=auth)\n",
    "    print(r.text)\n",
    "\n",
    "#replace with path to your questions \n",
    "test_questions_path = \"c:/users/IBM_ADMIN/documents/data/wimbledon/wimbledon/questions/questions_test.txt\" \n",
    "\n",
    "discovery_query_path = discovery_path + \"/query\"\n",
    "\n",
    "#perform a natural_language_query \n",
    "with open(test_questions_path, 'r') as test_questions:\n",
    "    for question in test_questions:\n",
    "        print(discovery_query_path)\n",
    "        relevance_query(discovery_query_path, question)\n",
    "    "
   ]
  },
  {
   "cell_type": "markdown",
   "metadata": {},
   "source": [
    "## Step 6: Measure Results\n",
    "In order to judge the effectivness of the training, you can compute standard information retrieval metrics. There are number of options to use for this. One common metric is NDCG (Normalized Discounted cumulative gain) \n",
    "https://en.wikipedia.org/wiki/Discounted_cumulative_gain"
   ]
  },
  {
   "cell_type": "markdown",
   "metadata": {},
   "source": [
    "## Notes\n",
    "* This code is not officially maintained or validated, and is used only for demonstration purposes. \n"
   ]
  },
  {
   "cell_type": "code",
   "execution_count": null,
   "metadata": {
    "collapsed": true
   },
   "outputs": [],
   "source": []
  }
 ],
 "metadata": {
  "kernelspec": {
   "display_name": "Python 2",
   "language": "python",
   "name": "python2"
  },
  "language_info": {
   "codemirror_mode": {
    "name": "ipython",
    "version": 2
   },
   "file_extension": ".py",
   "mimetype": "text/x-python",
   "name": "python",
   "nbconvert_exporter": "python",
   "pygments_lexer": "ipython2",
   "version": "2.7.11"
  }
 },
 "nbformat": 4,
 "nbformat_minor": 0
}
